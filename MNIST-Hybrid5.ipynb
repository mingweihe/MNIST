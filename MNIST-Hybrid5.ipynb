{
 "cells": [
  {
   "cell_type": "code",
   "execution_count": 13,
   "metadata": {
    "colab": {
     "autoexec": {
      "startup": false,
      "wait_interval": 0
     }
    },
    "colab_type": "code",
    "id": "M8h00KEOGc-P",
    "scrolled": true
   },
   "outputs": [],
   "source": [
    "import tensorflow as tf\n",
    "import numpy as np\n",
    "import random\n",
    "import glob\n",
    "import cv2\n",
    "import matplotlib.pyplot as plt"
   ]
  },
  {
   "cell_type": "code",
   "execution_count": 14,
   "metadata": {},
   "outputs": [
    {
     "name": "stdout",
     "output_type": "stream",
     "text": [
      "Extracting data/MNIST/train-images-idx3-ubyte.gz\n",
      "Extracting data/MNIST/train-labels-idx1-ubyte.gz\n",
      "Extracting data/MNIST/t10k-images-idx3-ubyte.gz\n",
      "Extracting data/MNIST/t10k-labels-idx1-ubyte.gz\n"
     ]
    }
   ],
   "source": [
    "# Read MNIST data\n",
    "from tensorflow.examples.tutorials.mnist import input_data\n",
    "dataset = input_data.read_data_sets(\"data/MNIST/\", one_hot=True)"
   ]
  },
  {
   "cell_type": "code",
   "execution_count": 31,
   "metadata": {
    "colab": {
     "autoexec": {
      "startup": false,
      "wait_interval": 0
     }
    },
    "colab_type": "code",
    "id": "NXEnjsIzGc-V"
   },
   "outputs": [],
   "source": [
    "# Set parameters\n",
    "image_height = 28\n",
    "image_width = 28\n",
    "num_channels = 1\n",
    "num_categories = 10\n",
    "num_filters1 = 32\n",
    "num_filters2 = 64\n",
    "num_filters3 = 64\n",
    "num_filters4 = 128\n",
    "num_filters5 = 256\n",
    "filter_size = 3\n",
    "num_epochs = 10\n",
    "batch_size = 10\n",
    "is_plot = 1\n",
    "pooling_size = 2\n",
    "fully_connected_size = 256\n",
    "learning_rate = .0005"
   ]
  },
  {
   "cell_type": "code",
   "execution_count": 16,
   "metadata": {
    "colab": {
     "autoexec": {
      "startup": false,
      "wait_interval": 0
     }
    },
    "colab_type": "code",
    "id": "riR2y2SxWyaJ"
   },
   "outputs": [],
   "source": [
    "# images plotting function\n",
    "def plotImg(imgs, titles = None):\n",
    "    fig = plt.figure()\n",
    "    for i in range(len(imgs)):\n",
    "        ax = fig.add_subplot(1, len(imgs), i + 1)\n",
    "        if titles != None:\n",
    "            ax.title.set_text(titles[i])\n",
    "        plt.imshow(imgs[i])\n",
    "        plt.axis('off')\n",
    "    plt.show()"
   ]
  },
  {
   "cell_type": "code",
   "execution_count": 17,
   "metadata": {
    "colab": {
     "autoexec": {
      "startup": false,
      "wait_interval": 0
     }
    },
    "colab_type": "code",
    "id": "fLopZmdKGc-k"
   },
   "outputs": [],
   "source": [
    "# Placeholders for images\n",
    "img_holder = tf.placeholder(tf.float32, [None, image_height, image_width,\n",
    "num_channels], name = 'img_holder')\n",
    "lbl_holder = tf.placeholder(tf.int8, [None, num_categories], name = 'lbl_holder')\n",
    "train = tf.placeholder(tf.bool, name = 'train_bool')"
   ]
  },
  {
   "cell_type": "code",
   "execution_count": 18,
   "metadata": {
    "colab": {
     "autoexec": {
      "startup": false,
      "wait_interval": 0
     }
    },
    "colab_type": "code",
    "id": "Xds5-TaMPx1J"
   },
   "outputs": [],
   "source": [
    "# Preprocess the image, Performs random transformations\n",
    "# Random flip left and right\n",
    "img_tensor_flip = tf.map_fn(lambda img: tf.image.random_flip_left_right(img), img_holder)\n",
    "# Random flip up and down \n",
    "img_tensor_flip1 = tf.map_fn(lambda img: tf.image.random_flip_up_down(img), img_tensor_flip)\n",
    "# Random brightness\n",
    "img_tensor_bri = tf.map_fn(lambda img: tf.image.random_brightness(img, max_delta=0.2), img_tensor_flip1)\n",
    "# Per-image scaling\n",
    "img_tensor_std = tf.map_fn(lambda img: tf.image.per_image_standardization(img), img_tensor_bri)"
   ]
  },
  {
   "cell_type": "code",
   "execution_count": 19,
   "metadata": {
    "colab": {
     "autoexec": {
      "startup": false,
      "wait_interval": 0
     },
     "base_uri": "https://localhost:8080/",
     "height": 51
    },
    "colab_type": "code",
    "executionInfo": {
     "elapsed": 826,
     "status": "ok",
     "timestamp": 1529623207533,
     "user": {
      "displayName": "Mingwei He",
      "photoUrl": "//lh4.googleusercontent.com/-cPuwDF7cS-0/AAAAAAAAAAI/AAAAAAAAAA4/VugwgDB54Gg/s50-c-k-no/photo.jpg",
      "userId": "106447477588807237832"
     },
     "user_tz": 300
    },
    "id": "FC6Yn9gPGc-o",
    "outputId": "1c1d0889-2390-4183-f880-8aeb65d6dea7"
   },
   "outputs": [
    {
     "name": "stdout",
     "output_type": "stream",
     "text": [
      "(?, 28, 28, 1)\n",
      "(?, 28, 28, 32)\n"
     ]
    }
   ],
   "source": [
    "# Create convolution/pooling layers\n",
    "conv1 = tf.layers.conv2d(img_tensor_std, num_filters1, filter_size, padding='same', \\\n",
    "activation=tf.nn.relu, name = 'conv1')\n",
    "print(np.shape(img_tensor_std))\n",
    "print(np.shape(conv1))"
   ]
  },
  {
   "cell_type": "code",
   "execution_count": 20,
   "metadata": {
    "colab": {
     "autoexec": {
      "startup": false,
      "wait_interval": 0
     },
     "base_uri": "https://localhost:8080/",
     "height": 34
    },
    "colab_type": "code",
    "executionInfo": {
     "elapsed": 821,
     "status": "ok",
     "timestamp": 1529623208428,
     "user": {
      "displayName": "Mingwei He",
      "photoUrl": "//lh4.googleusercontent.com/-cPuwDF7cS-0/AAAAAAAAAAI/AAAAAAAAAA4/VugwgDB54Gg/s50-c-k-no/photo.jpg",
      "userId": "106447477588807237832"
     },
     "user_tz": 300
    },
    "id": "hILT35AmGc-v",
    "outputId": "76df1c9c-8deb-4058-bc10-91a642c96b3e"
   },
   "outputs": [
    {
     "name": "stdout",
     "output_type": "stream",
     "text": [
      "(?, 14, 14, 32)\n"
     ]
    }
   ],
   "source": [
    "pool1 = tf.layers.max_pooling2d(conv1, pooling_size, pooling_size, name = 'pool1')\n",
    "print(np.shape(pool1))"
   ]
  },
  {
   "cell_type": "code",
   "execution_count": 21,
   "metadata": {
    "colab": {
     "autoexec": {
      "startup": false,
      "wait_interval": 0
     }
    },
    "colab_type": "code",
    "id": "gXBCdNT4Gc-y"
   },
   "outputs": [],
   "source": [
    "conv2 = tf.layers.conv2d(pool1, num_filters2, filter_size, padding='same',\n",
    "activation=tf.nn.relu, name = 'conv2')"
   ]
  },
  {
   "cell_type": "code",
   "execution_count": 22,
   "metadata": {
    "colab": {
     "autoexec": {
      "startup": false,
      "wait_interval": 0
     },
     "base_uri": "https://localhost:8080/",
     "height": 34
    },
    "colab_type": "code",
    "executionInfo": {
     "elapsed": 1024,
     "status": "ok",
     "timestamp": 1529623210644,
     "user": {
      "displayName": "Mingwei He",
      "photoUrl": "//lh4.googleusercontent.com/-cPuwDF7cS-0/AAAAAAAAAAI/AAAAAAAAAA4/VugwgDB54Gg/s50-c-k-no/photo.jpg",
      "userId": "106447477588807237832"
     },
     "user_tz": 300
    },
    "id": "af_jYprGGc-4",
    "outputId": "cb52ba59-6905-4d80-a46a-f1589d22de9a"
   },
   "outputs": [
    {
     "name": "stdout",
     "output_type": "stream",
     "text": [
      "(?, 7, 7, 64)\n"
     ]
    }
   ],
   "source": [
    "pool2 = tf.layers.max_pooling2d(conv2, pooling_size, pooling_size, name = 'pool2')\n",
    "print(np.shape(pool2))"
   ]
  },
  {
   "cell_type": "code",
   "execution_count": 23,
   "metadata": {
    "colab": {
     "autoexec": {
      "startup": false,
      "wait_interval": 0
     }
    },
    "colab_type": "code",
    "id": "GkKANPaYGc-7"
   },
   "outputs": [],
   "source": [
    "conv3 = tf.layers.conv2d(pool2, num_filters3, filter_size, padding='same',\n",
    "activation=tf.nn.relu, name = 'conv3')"
   ]
  },
  {
   "cell_type": "code",
   "execution_count": 24,
   "metadata": {
    "colab": {
     "autoexec": {
      "startup": false,
      "wait_interval": 0
     },
     "base_uri": "https://localhost:8080/",
     "height": 34
    },
    "colab_type": "code",
    "executionInfo": {
     "elapsed": 356,
     "status": "ok",
     "timestamp": 1529623211690,
     "user": {
      "displayName": "Mingwei He",
      "photoUrl": "//lh4.googleusercontent.com/-cPuwDF7cS-0/AAAAAAAAAAI/AAAAAAAAAA4/VugwgDB54Gg/s50-c-k-no/photo.jpg",
      "userId": "106447477588807237832"
     },
     "user_tz": 300
    },
    "id": "rb5tv6azGc--",
    "outputId": "dccbb7e6-00b8-441a-eec5-2ebf8286fdf2"
   },
   "outputs": [
    {
     "name": "stdout",
     "output_type": "stream",
     "text": [
      "(?, 3, 3, 64)\n"
     ]
    }
   ],
   "source": [
    "pool3 = tf.layers.max_pooling2d(conv3, pooling_size, pooling_size, name = 'pool3')\n",
    "print(np.shape(pool3))"
   ]
  },
  {
   "cell_type": "code",
   "execution_count": 25,
   "metadata": {
    "colab": {
     "autoexec": {
      "startup": false,
      "wait_interval": 0
     }
    },
    "colab_type": "code",
    "id": "Oeqmx6_lGc_C"
   },
   "outputs": [],
   "source": [
    "conv4 = tf.layers.conv2d(pool3, num_filters4, filter_size, padding='same',\n",
    "activation=tf.nn.relu, name = 'conv4')"
   ]
  },
  {
   "cell_type": "code",
   "execution_count": 26,
   "metadata": {
    "colab": {
     "autoexec": {
      "startup": false,
      "wait_interval": 0
     }
    },
    "colab_type": "code",
    "id": "Teh4q6fDu7Yd"
   },
   "outputs": [],
   "source": [
    "conv5 = tf.layers.conv2d(conv4, num_filters5, filter_size, padding='same',\n",
    "activation=tf.nn.relu, name = 'conv5')"
   ]
  },
  {
   "cell_type": "code",
   "execution_count": 27,
   "metadata": {
    "colab": {
     "autoexec": {
      "startup": false,
      "wait_interval": 0
     },
     "base_uri": "https://localhost:8080/",
     "height": 34
    },
    "colab_type": "code",
    "executionInfo": {
     "elapsed": 817,
     "status": "ok",
     "timestamp": 1529623214031,
     "user": {
      "displayName": "Mingwei He",
      "photoUrl": "//lh4.googleusercontent.com/-cPuwDF7cS-0/AAAAAAAAAAI/AAAAAAAAAA4/VugwgDB54Gg/s50-c-k-no/photo.jpg",
      "userId": "106447477588807237832"
     },
     "user_tz": 300
    },
    "id": "payynk9jmKcj",
    "outputId": "56cde7d6-7263-40ca-f05e-2b75437ab6d6"
   },
   "outputs": [
    {
     "name": "stdout",
     "output_type": "stream",
     "text": [
      "(?, 1, 1, 256)\n"
     ]
    }
   ],
   "source": [
    "pool4 = tf.layers.max_pooling2d(conv5, pooling_size, pooling_size, name = 'pool4')\n",
    "print(np.shape(pool4))"
   ]
  },
  {
   "cell_type": "code",
   "execution_count": 32,
   "metadata": {
    "colab": {
     "autoexec": {
      "startup": false,
      "wait_interval": 0
     },
     "base_uri": "https://localhost:8080/",
     "height": 34
    },
    "colab_type": "code",
    "executionInfo": {
     "elapsed": 681,
     "status": "ok",
     "timestamp": 1529623217806,
     "user": {
      "displayName": "Mingwei He",
      "photoUrl": "//lh4.googleusercontent.com/-cPuwDF7cS-0/AAAAAAAAAAI/AAAAAAAAAA4/VugwgDB54Gg/s50-c-k-no/photo.jpg",
      "userId": "106447477588807237832"
     },
     "user_tz": 300
    },
    "id": "7HXR01AbGc_N",
    "outputId": "ffdc3af4-c3c6-432f-e521-1bef3f7992c4"
   },
   "outputs": [
    {
     "name": "stdout",
     "output_type": "stream",
     "text": [
      "(?, 256)\n"
     ]
    }
   ],
   "source": [
    "# Flatten input data\n",
    "flatten = tf.reshape(pool4, [-1, fully_connected_size], name = 'flatten')\n",
    "print(np.shape(flatten))"
   ]
  },
  {
   "cell_type": "code",
   "execution_count": 33,
   "metadata": {
    "colab": {
     "autoexec": {
      "startup": false,
      "wait_interval": 0
     }
    },
    "colab_type": "code",
    "id": "lJ8HnWM6Gc_P"
   },
   "outputs": [],
   "source": [
    "# Create connected layers\n",
    "with tf.contrib.framework.arg_scope(\n",
    "[tf.contrib.layers.fully_connected],\n",
    "normalizer_fn=tf.contrib.layers.batch_norm,\n",
    "normalizer_params={'is_training': train}):\n",
    "    fc1 = tf.contrib.layers.fully_connected(flatten, fully_connected_size, scope = 'fc1')\n",
    "    fc2 = tf.contrib.layers.fully_connected(fc1, num_categories,\n",
    "    activation_fn=None, scope = 'fc2')"
   ]
  },
  {
   "cell_type": "code",
   "execution_count": 34,
   "metadata": {},
   "outputs": [
    {
     "name": "stdout",
     "output_type": "stream",
     "text": [
      "(?, 10)\n"
     ]
    }
   ],
   "source": [
    "print(np.shape(fc2))"
   ]
  },
  {
   "cell_type": "code",
   "execution_count": 35,
   "metadata": {
    "colab": {
     "autoexec": {
      "startup": false,
      "wait_interval": 0
     },
     "base_uri": "https://localhost:8080/",
     "height": 173
    },
    "colab_type": "code",
    "executionInfo": {
     "elapsed": 816,
     "status": "ok",
     "timestamp": 1529623223942,
     "user": {
      "displayName": "Mingwei He",
      "photoUrl": "//lh4.googleusercontent.com/-cPuwDF7cS-0/AAAAAAAAAAI/AAAAAAAAAA4/VugwgDB54Gg/s50-c-k-no/photo.jpg",
      "userId": "106447477588807237832"
     },
     "user_tz": 300
    },
    "id": "3GhZa8XPGc_S",
    "outputId": "d563af87-38df-4a4f-e178-252fef4c5372"
   },
   "outputs": [
    {
     "name": "stdout",
     "output_type": "stream",
     "text": [
      "WARNING:tensorflow:From <ipython-input-35-595b9b4ce7ae>:4: softmax_cross_entropy_with_logits (from tensorflow.python.ops.nn_ops) is deprecated and will be removed in a future version.\n",
      "Instructions for updating:\n",
      "\n",
      "Future major versions of TensorFlow will allow gradients to flow\n",
      "into the labels input on backprop by default.\n",
      "\n",
      "See @{tf.nn.softmax_cross_entropy_with_logits_v2}.\n",
      "\n"
     ]
    }
   ],
   "source": [
    "# Compute loss\n",
    "loss = tf.reduce_mean(\n",
    "tf.nn.softmax_cross_entropy_with_logits(\n",
    "logits=fc2, labels=lbl_holder), name = 'loss')"
   ]
  },
  {
   "cell_type": "code",
   "execution_count": 38,
   "metadata": {
    "colab": {
     "autoexec": {
      "startup": false,
      "wait_interval": 0
     }
    },
    "colab_type": "code",
    "id": "PsZi4MxAGc_W"
   },
   "outputs": [],
   "source": [
    "# Create optimizer\n",
    "global_step = tf.Variable(0, name='global_step', trainable=False)\n",
    "optimizer = tf.train.AdamOptimizer(learning_rate).minimize(loss, name = 'optimizer', global_step = global_step)"
   ]
  },
  {
   "cell_type": "code",
   "execution_count": 39,
   "metadata": {
    "colab": {
     "autoexec": {
      "startup": false,
      "wait_interval": 0
     }
    },
    "colab_type": "code",
    "id": "nGSCQlz_Gc_Z"
   },
   "outputs": [],
   "source": [
    "# Determine success rate\n",
    "prediction = tf.argmax(fc2, 1, name = 'prediction')\n",
    "correct_pred = tf.equal(prediction, tf.argmax(lbl_holder, 1), name = 'correct_pred')\n",
    "accuracy = tf.reduce_mean(tf.cast(correct_pred, tf.float32), name = 'accuracy')\n",
    "# probabilities of each class\n",
    "probabilities = tf.nn.softmax(fc2, name='probabilities')"
   ]
  },
  {
   "cell_type": "code",
   "execution_count": 40,
   "metadata": {
    "colab": {
     "autoexec": {
      "startup": false,
      "wait_interval": 0
     }
    },
    "colab_type": "code",
    "id": "FcSbtSUKGc_b"
   },
   "outputs": [],
   "source": [
    "# Initialize variables\n",
    "init = tf.global_variables_initializer()\n",
    "# Launch session\n",
    "sess = tf.Session()\n",
    "sess.run(init)\n",
    "# saver for storing training result\n",
    "saver = tf.train.Saver()"
   ]
  },
  {
   "cell_type": "code",
   "execution_count": 53,
   "metadata": {},
   "outputs": [
    {
     "name": "stdout",
     "output_type": "stream",
     "text": [
      "(55000, 784)\n",
      "(55000, 10)\n",
      "(55000, 28, 28, 1)\n"
     ]
    }
   ],
   "source": [
    "a = np.reshape(dataset.train.images, [55000, 28, 28, 1])\n",
    "print(np.shape(dataset.train.images))\n",
    "print(np.shape(dataset.train.labels))\n",
    "print(np.shape(a))"
   ]
  },
  {
   "cell_type": "code",
   "execution_count": 72,
   "metadata": {
    "colab": {
     "autoexec": {
      "startup": false,
      "wait_interval": 0
     },
     "base_uri": "https://localhost:8080/",
     "height": 158
    },
    "colab_type": "code",
    "executionInfo": {
     "elapsed": 1700,
     "status": "ok",
     "timestamp": 1529623228696,
     "user": {
      "displayName": "Mingwei He",
      "photoUrl": "//lh4.googleusercontent.com/-cPuwDF7cS-0/AAAAAAAAAAI/AAAAAAAAAA4/VugwgDB54Gg/s50-c-k-no/photo.jpg",
      "userId": "106447477588807237832"
     },
     "user_tz": 300
    },
    "id": "sWcfZb2aGc_d",
    "outputId": "99852c73-35d0-40e0-f1c0-b51d66a095e8"
   },
   "outputs": [
    {
     "name": "stdout",
     "output_type": "stream",
     "text": [
      "(1, 28, 28, 32)\n"
     ]
    },
    {
     "data": {
      "image/png": "[encoded data removed]",
      "text/plain": [
       "<matplotlib.figure.Figure at 0x132c28860>"
      ]
     },
     "metadata": {},
     "output_type": "display_data"
    }
   ],
   "source": [
    "if is_plot:\n",
    "    dataConv1 = sess.run(conv1, feed_dict = {img_holder: [a[0]]})\n",
    "    print(np.shape(dataConv1))\n",
    "    plotImg(dataConv1[:,:,:,0:3])"
   ]
  },
  {
   "cell_type": "code",
   "execution_count": 74,
   "metadata": {
    "colab": {
     "autoexec": {
      "startup": false,
      "wait_interval": 0
     },
     "base_uri": "https://localhost:8080/",
     "height": 158
    },
    "colab_type": "code",
    "executionInfo": {
     "elapsed": 856,
     "status": "ok",
     "timestamp": 1529623229606,
     "user": {
      "displayName": "Mingwei He",
      "photoUrl": "//lh4.googleusercontent.com/-cPuwDF7cS-0/AAAAAAAAAAI/AAAAAAAAAA4/VugwgDB54Gg/s50-c-k-no/photo.jpg",
      "userId": "106447477588807237832"
     },
     "user_tz": 300
    },
    "id": "XwRH0KgiGc_m",
    "outputId": "c7c9522f-3af2-453e-967c-7b73dd878a08"
   },
   "outputs": [
    {
     "data": {
      "image/png": "[encoded data removed]",
      "text/plain": [
       "<matplotlib.figure.Figure at 0x14eb1be80>"
      ]
     },
     "metadata": {},
     "output_type": "display_data"
    }
   ],
   "source": [
    "if is_plot:\n",
    "    dataPool1 = sess.run(pool1, feed_dict = {img_holder: [a[0]], train: False})\n",
    "    plotImg([np.mean(dataPool1[0], axis = 2),dataPool1[:,:,:,0:3][0],dataPool1[:,:,:,-4:-1][0]])"
   ]
  },
  {
   "cell_type": "code",
   "execution_count": 85,
   "metadata": {
    "colab": {
     "autoexec": {
      "startup": false,
      "wait_interval": 0
     },
     "base_uri": "https://localhost:8080/",
     "height": 158
    },
    "colab_type": "code",
    "executionInfo": {
     "elapsed": 2652,
     "status": "ok",
     "timestamp": 1529623232375,
     "user": {
      "displayName": "Mingwei He",
      "photoUrl": "//lh4.googleusercontent.com/-cPuwDF7cS-0/AAAAAAAAAAI/AAAAAAAAAA4/VugwgDB54Gg/s50-c-k-no/photo.jpg",
      "userId": "106447477588807237832"
     },
     "user_tz": 300
    },
    "id": "1nQpjvx5Gc_s",
    "outputId": "56de3dc3-9212-4634-f6e7-806ddda123c6"
   },
   "outputs": [
    {
     "data": {
      "image/png": "[encoded data removed]",
      "text/plain": [
       "<matplotlib.figure.Figure at 0x14e8aeef0>"
      ]
     },
     "metadata": {},
     "output_type": "display_data"
    }
   ],
   "source": [
    "if is_plot:\n",
    "    dataConv2 = sess.run(conv2, feed_dict = {img_holder: [a[0]], train: False})\n",
    "    plotImg([np.mean(dataConv2[0], axis = 2),dataConv2[:,:,:,0:3][0],dataConv2[:,:,:,-4:-1][0]])"
   ]
  },
  {
   "cell_type": "code",
   "execution_count": 86,
   "metadata": {
    "colab": {
     "autoexec": {
      "startup": false,
      "wait_interval": 0
     },
     "base_uri": "https://localhost:8080/",
     "height": 158
    },
    "colab_type": "code",
    "executionInfo": {
     "elapsed": 878,
     "status": "ok",
     "timestamp": 1529623233355,
     "user": {
      "displayName": "Mingwei He",
      "photoUrl": "//lh4.googleusercontent.com/-cPuwDF7cS-0/AAAAAAAAAAI/AAAAAAAAAA4/VugwgDB54Gg/s50-c-k-no/photo.jpg",
      "userId": "106447477588807237832"
     },
     "user_tz": 300
    },
    "id": "5LID8p10Gc_z",
    "outputId": "e1c0f7e0-72ab-4df0-ce1a-5aa42e7b7bec"
   },
   "outputs": [
    {
     "data": {
      "image/png": "[encoded data removed]",
      "text/plain": [
       "<matplotlib.figure.Figure at 0x131703b70>"
      ]
     },
     "metadata": {},
     "output_type": "display_data"
    }
   ],
   "source": [
    "if is_plot:\n",
    "    dataPool2 = sess.run(pool2, feed_dict = {img_holder: [a[0]], train: False})\n",
    "    plotImg([np.mean(dataPool2[0], axis = 2),dataPool2[:,:,:,0:3][0],dataPool2[:,:,:,-4:-1][0]])"
   ]
  },
  {
   "cell_type": "code",
   "execution_count": 87,
   "metadata": {
    "colab": {
     "autoexec": {
      "startup": false,
      "wait_interval": 0
     },
     "base_uri": "https://localhost:8080/",
     "height": 158
    },
    "colab_type": "code",
    "executionInfo": {
     "elapsed": 982,
     "status": "ok",
     "timestamp": 1529623234407,
     "user": {
      "displayName": "Mingwei He",
      "photoUrl": "//lh4.googleusercontent.com/-cPuwDF7cS-0/AAAAAAAAAAI/AAAAAAAAAA4/VugwgDB54Gg/s50-c-k-no/photo.jpg",
      "userId": "106447477588807237832"
     },
     "user_tz": 300
    },
    "id": "bfNxg_PXGc_3",
    "outputId": "b3bbd6e8-5a72-472c-dff8-dd8a430fd03e"
   },
   "outputs": [
    {
     "data": {
      "image/png": "[encoded data removed]",
      "text/plain": [
       "<matplotlib.figure.Figure at 0x14e549a90>"
      ]
     },
     "metadata": {},
     "output_type": "display_data"
    }
   ],
   "source": [
    "if is_plot:\n",
    "    dataConv3 = sess.run(conv3, feed_dict = {img_holder: [a[0]], train: False})\n",
    "    plotImg([np.mean(dataConv3[0], axis = 2),dataConv3[:,:,:,0:3][0],dataConv3[:,:,:,-4:-1][0]])"
   ]
  },
  {
   "cell_type": "code",
   "execution_count": 88,
   "metadata": {
    "colab": {
     "autoexec": {
      "startup": false,
      "wait_interval": 0
     },
     "base_uri": "https://localhost:8080/",
     "height": 156
    },
    "colab_type": "code",
    "executionInfo": {
     "elapsed": 636,
     "status": "ok",
     "timestamp": 1529623235096,
     "user": {
      "displayName": "Mingwei He",
      "photoUrl": "//lh4.googleusercontent.com/-cPuwDF7cS-0/AAAAAAAAAAI/AAAAAAAAAA4/VugwgDB54Gg/s50-c-k-no/photo.jpg",
      "userId": "106447477588807237832"
     },
     "user_tz": 300
    },
    "id": "4K6_Ww6uGc_8",
    "outputId": "c8656a1d-8c15-4f44-a4fe-ddadb77589b6"
   },
   "outputs": [
    {
     "data": {
      "image/png": "[encoded data removed]",
      "text/plain": [
       "<matplotlib.figure.Figure at 0x14e586860>"
      ]
     },
     "metadata": {},
     "output_type": "display_data"
    }
   ],
   "source": [
    "if is_plot:\n",
    "    dataPool3 = sess.run(pool3, feed_dict = {img_holder: [a[0]], train: False})\n",
    "    plotImg([np.mean(dataPool3[0], axis = 2),dataPool3[:,:,:,0:3][0],dataPool3[:,:,:,-4:-1][0]])"
   ]
  },
  {
   "cell_type": "code",
   "execution_count": 89,
   "metadata": {
    "colab": {
     "autoexec": {
      "startup": false,
      "wait_interval": 0
     },
     "base_uri": "https://localhost:8080/",
     "height": 156
    },
    "colab_type": "code",
    "executionInfo": {
     "elapsed": 1115,
     "status": "ok",
     "timestamp": 1529623236301,
     "user": {
      "displayName": "Mingwei He",
      "photoUrl": "//lh4.googleusercontent.com/-cPuwDF7cS-0/AAAAAAAAAAI/AAAAAAAAAA4/VugwgDB54Gg/s50-c-k-no/photo.jpg",
      "userId": "106447477588807237832"
     },
     "user_tz": 300
    },
    "id": "ah4Rq3o1GdAC",
    "outputId": "a8c51d71-af68-485b-9671-206a51b77b92"
   },
   "outputs": [
    {
     "data": {
      "image/png": "[encoded data removed]",
      "text/plain": [
       "<matplotlib.figure.Figure at 0x14e56ae10>"
      ]
     },
     "metadata": {},
     "output_type": "display_data"
    }
   ],
   "source": [
    "if is_plot:\n",
    "    dataConv4 = sess.run(conv4, feed_dict = {img_holder: [a[0]], train: False})\n",
    "    plotImg([np.mean(dataConv4[0], axis = 2),dataConv4[:,:,:,0:3][0],dataConv4[:,:,:,-4:-1][0]])"
   ]
  },
  {
   "cell_type": "code",
   "execution_count": 90,
   "metadata": {
    "colab": {
     "autoexec": {
      "startup": false,
      "wait_interval": 0
     },
     "base_uri": "https://localhost:8080/",
     "height": 173
    },
    "colab_type": "code",
    "executionInfo": {
     "elapsed": 1355,
     "status": "ok",
     "timestamp": 1529623237829,
     "user": {
      "displayName": "Mingwei He",
      "photoUrl": "//lh4.googleusercontent.com/-cPuwDF7cS-0/AAAAAAAAAAI/AAAAAAAAAA4/VugwgDB54Gg/s50-c-k-no/photo.jpg",
      "userId": "106447477588807237832"
     },
     "user_tz": 300
    },
    "id": "aBxluABOqUEQ",
    "outputId": "95455196-f03a-44bb-dd6e-c6d9757e8e70"
   },
   "outputs": [
    {
     "name": "stdout",
     "output_type": "stream",
     "text": [
      "(1, 3, 3, 256)\n"
     ]
    },
    {
     "data": {
      "image/png": "[encoded data removed]",
      "text/plain": [
       "<matplotlib.figure.Figure at 0x1305e1828>"
      ]
     },
     "metadata": {},
     "output_type": "display_data"
    }
   ],
   "source": [
    "if is_plot:\n",
    "    dataConv5 = sess.run(conv5, feed_dict = {img_holder: [a[0]], train: False})\n",
    "    print(np.shape(dataConv5))\n",
    "    plotImg([np.mean(dataConv5[0], axis = 2),dataConv5[:,:,:,0:3][0],dataConv5[:,:,:,-4:-1][0]])"
   ]
  },
  {
   "cell_type": "code",
   "execution_count": 91,
   "metadata": {
    "colab": {
     "autoexec": {
      "startup": false,
      "wait_interval": 0
     },
     "base_uri": "https://localhost:8080/",
     "height": 169
    },
    "colab_type": "code",
    "executionInfo": {
     "elapsed": 1683,
     "status": "ok",
     "timestamp": 1529623239545,
     "user": {
      "displayName": "Mingwei He",
      "photoUrl": "//lh4.googleusercontent.com/-cPuwDF7cS-0/AAAAAAAAAAI/AAAAAAAAAA4/VugwgDB54Gg/s50-c-k-no/photo.jpg",
      "userId": "106447477588807237832"
     },
     "user_tz": 300
    },
    "id": "Sxt1Y-nbwR_T",
    "outputId": "cf1dbd57-565b-4c89-81de-a3c7cc19b9ef"
   },
   "outputs": [
    {
     "name": "stdout",
     "output_type": "stream",
     "text": [
      "(1, 1, 1, 256)\n"
     ]
    },
    {
     "data": {
      "image/png": "[encoded data removed]",
      "text/plain": [
       "<matplotlib.figure.Figure at 0x132b25390>"
      ]
     },
     "metadata": {},
     "output_type": "display_data"
    }
   ],
   "source": [
    "if is_plot:\n",
    "    dataPool4 = sess.run(pool4, feed_dict = {img_holder: [a[0]], train: False})\n",
    "    print(np.shape(dataPool4))\n",
    "    plotImg([np.mean(dataPool4[0], axis = 2),dataPool4[:,:,:,0:3][0],dataPool4[:,:,:,-4:-1][0]])"
   ]
  },
  {
   "cell_type": "code",
   "execution_count": 93,
   "metadata": {
    "colab": {
     "autoexec": {
      "startup": false,
      "wait_interval": 0
     },
     "base_uri": "https://localhost:8080/",
     "height": 527
    },
    "colab_type": "code",
    "executionInfo": {
     "elapsed": 854536,
     "status": "ok",
     "timestamp": 1529624095242,
     "user": {
      "displayName": "Mingwei He",
      "photoUrl": "//lh4.googleusercontent.com/-cPuwDF7cS-0/AAAAAAAAAAI/AAAAAAAAAA4/VugwgDB54Gg/s50-c-k-no/photo.jpg",
      "userId": "106447477588807237832"
     },
     "user_tz": 300
    },
    "id": "jQR2EMARGdAQ",
    "outputId": "f1be45de-4bbd-439b-b36a-ee46f2ad741c"
   },
   "outputs": [
    {
     "name": "stdout",
     "output_type": "stream",
     "text": [
      "epoch: 1 Accuracy: 0.6174\n",
      "epoch: 2 Accuracy: 0.7102\n"
     ]
    },
    {
     "ename": "KeyboardInterrupt",
     "evalue": "",
     "output_type": "error",
     "traceback": [
      "\u001b[0;31m---------------------------------------------------------------------------\u001b[0m",
      "\u001b[0;31mKeyboardInterrupt\u001b[0m                         Traceback (most recent call last)",
      "\u001b[0;32m<ipython-input-93-4f1646112b92>\u001b[0m in \u001b[0;36m<module>\u001b[0;34m()\u001b[0m\n\u001b[1;32m      6\u001b[0m     \u001b[0;32mfor\u001b[0m \u001b[0mbatch\u001b[0m \u001b[0;32min\u001b[0m \u001b[0mrange\u001b[0m\u001b[0;34m(\u001b[0m\u001b[0mnum_batches\u001b[0m\u001b[0;34m)\u001b[0m\u001b[0;34m:\u001b[0m\u001b[0;34m\u001b[0m\u001b[0m\n\u001b[1;32m      7\u001b[0m         \u001b[0mimg_batch\u001b[0m\u001b[0;34m,\u001b[0m \u001b[0mlbl_batch\u001b[0m \u001b[0;34m=\u001b[0m \u001b[0mdataset\u001b[0m\u001b[0;34m.\u001b[0m\u001b[0mtrain\u001b[0m\u001b[0;34m.\u001b[0m\u001b[0mnext_batch\u001b[0m\u001b[0;34m(\u001b[0m\u001b[0mbatch_size\u001b[0m\u001b[0;34m)\u001b[0m\u001b[0;34m\u001b[0m\u001b[0m\n\u001b[0;32m----> 8\u001b[0;31m         \u001b[0msess\u001b[0m\u001b[0;34m.\u001b[0m\u001b[0mrun\u001b[0m\u001b[0;34m(\u001b[0m\u001b[0moptimizer\u001b[0m\u001b[0;34m,\u001b[0m \u001b[0mfeed_dict\u001b[0m\u001b[0;34m=\u001b[0m\u001b[0;34m{\u001b[0m\u001b[0mimg_holder\u001b[0m\u001b[0;34m:\u001b[0m \u001b[0mnp\u001b[0m\u001b[0;34m.\u001b[0m\u001b[0mreshape\u001b[0m\u001b[0;34m(\u001b[0m\u001b[0mimg_batch\u001b[0m\u001b[0;34m,\u001b[0m \u001b[0;34m[\u001b[0m\u001b[0;34m-\u001b[0m\u001b[0;36m1\u001b[0m\u001b[0;34m,\u001b[0m \u001b[0;36m28\u001b[0m\u001b[0;34m,\u001b[0m \u001b[0;36m28\u001b[0m\u001b[0;34m,\u001b[0m \u001b[0;36m1\u001b[0m\u001b[0;34m]\u001b[0m\u001b[0;34m)\u001b[0m\u001b[0;34m,\u001b[0m         \u001b[0mlbl_holder\u001b[0m\u001b[0;34m:\u001b[0m \u001b[0mlbl_batch\u001b[0m\u001b[0;34m,\u001b[0m \u001b[0mtrain\u001b[0m\u001b[0;34m:\u001b[0m \u001b[0;32mTrue\u001b[0m\u001b[0;34m}\u001b[0m\u001b[0;34m)\u001b[0m\u001b[0;34m\u001b[0m\u001b[0m\n\u001b[0m\u001b[1;32m      9\u001b[0m     accuracy_val = sess.run(accuracy, feed_dict={img_holder: np.reshape(dataset.test.images, [-1, 28, 28, 1]),\n\u001b[1;32m     10\u001b[0m     lbl_holder: dataset.test.labels, train: False})\n",
      "\u001b[0;32m/anaconda3/lib/python3.6/site-packages/tensorflow/python/client/session.py\u001b[0m in \u001b[0;36mrun\u001b[0;34m(self, fetches, feed_dict, options, run_metadata)\u001b[0m\n\u001b[1;32m    898\u001b[0m     \u001b[0;32mtry\u001b[0m\u001b[0;34m:\u001b[0m\u001b[0;34m\u001b[0m\u001b[0m\n\u001b[1;32m    899\u001b[0m       result = self._run(None, fetches, feed_dict, options_ptr,\n\u001b[0;32m--> 900\u001b[0;31m                          run_metadata_ptr)\n\u001b[0m\u001b[1;32m    901\u001b[0m       \u001b[0;32mif\u001b[0m \u001b[0mrun_metadata\u001b[0m\u001b[0;34m:\u001b[0m\u001b[0;34m\u001b[0m\u001b[0m\n\u001b[1;32m    902\u001b[0m         \u001b[0mproto_data\u001b[0m \u001b[0;34m=\u001b[0m \u001b[0mtf_session\u001b[0m\u001b[0;34m.\u001b[0m\u001b[0mTF_GetBuffer\u001b[0m\u001b[0;34m(\u001b[0m\u001b[0mrun_metadata_ptr\u001b[0m\u001b[0;34m)\u001b[0m\u001b[0;34m\u001b[0m\u001b[0m\n",
      "\u001b[0;32m/anaconda3/lib/python3.6/site-packages/tensorflow/python/client/session.py\u001b[0m in \u001b[0;36m_run\u001b[0;34m(self, handle, fetches, feed_dict, options, run_metadata)\u001b[0m\n\u001b[1;32m   1133\u001b[0m     \u001b[0;32mif\u001b[0m \u001b[0mfinal_fetches\u001b[0m \u001b[0;32mor\u001b[0m \u001b[0mfinal_targets\u001b[0m \u001b[0;32mor\u001b[0m \u001b[0;34m(\u001b[0m\u001b[0mhandle\u001b[0m \u001b[0;32mand\u001b[0m \u001b[0mfeed_dict_tensor\u001b[0m\u001b[0;34m)\u001b[0m\u001b[0;34m:\u001b[0m\u001b[0;34m\u001b[0m\u001b[0m\n\u001b[1;32m   1134\u001b[0m       results = self._do_run(handle, final_targets, final_fetches,\n\u001b[0;32m-> 1135\u001b[0;31m                              feed_dict_tensor, options, run_metadata)\n\u001b[0m\u001b[1;32m   1136\u001b[0m     \u001b[0;32melse\u001b[0m\u001b[0;34m:\u001b[0m\u001b[0;34m\u001b[0m\u001b[0m\n\u001b[1;32m   1137\u001b[0m       \u001b[0mresults\u001b[0m \u001b[0;34m=\u001b[0m \u001b[0;34m[\u001b[0m\u001b[0;34m]\u001b[0m\u001b[0;34m\u001b[0m\u001b[0m\n",
      "\u001b[0;32m/anaconda3/lib/python3.6/site-packages/tensorflow/python/client/session.py\u001b[0m in \u001b[0;36m_do_run\u001b[0;34m(self, handle, target_list, fetch_list, feed_dict, options, run_metadata)\u001b[0m\n\u001b[1;32m   1314\u001b[0m     \u001b[0;32mif\u001b[0m \u001b[0mhandle\u001b[0m \u001b[0;32mis\u001b[0m \u001b[0;32mNone\u001b[0m\u001b[0;34m:\u001b[0m\u001b[0;34m\u001b[0m\u001b[0m\n\u001b[1;32m   1315\u001b[0m       return self._do_call(_run_fn, feeds, fetches, targets, options,\n\u001b[0;32m-> 1316\u001b[0;31m                            run_metadata)\n\u001b[0m\u001b[1;32m   1317\u001b[0m     \u001b[0;32melse\u001b[0m\u001b[0;34m:\u001b[0m\u001b[0;34m\u001b[0m\u001b[0m\n\u001b[1;32m   1318\u001b[0m       \u001b[0;32mreturn\u001b[0m \u001b[0mself\u001b[0m\u001b[0;34m.\u001b[0m\u001b[0m_do_call\u001b[0m\u001b[0;34m(\u001b[0m\u001b[0m_prun_fn\u001b[0m\u001b[0;34m,\u001b[0m \u001b[0mhandle\u001b[0m\u001b[0;34m,\u001b[0m \u001b[0mfeeds\u001b[0m\u001b[0;34m,\u001b[0m \u001b[0mfetches\u001b[0m\u001b[0;34m)\u001b[0m\u001b[0;34m\u001b[0m\u001b[0m\n",
      "\u001b[0;32m/anaconda3/lib/python3.6/site-packages/tensorflow/python/client/session.py\u001b[0m in \u001b[0;36m_do_call\u001b[0;34m(self, fn, *args)\u001b[0m\n\u001b[1;32m   1320\u001b[0m   \u001b[0;32mdef\u001b[0m \u001b[0m_do_call\u001b[0m\u001b[0;34m(\u001b[0m\u001b[0mself\u001b[0m\u001b[0;34m,\u001b[0m \u001b[0mfn\u001b[0m\u001b[0;34m,\u001b[0m \u001b[0;34m*\u001b[0m\u001b[0margs\u001b[0m\u001b[0;34m)\u001b[0m\u001b[0;34m:\u001b[0m\u001b[0;34m\u001b[0m\u001b[0m\n\u001b[1;32m   1321\u001b[0m     \u001b[0;32mtry\u001b[0m\u001b[0;34m:\u001b[0m\u001b[0;34m\u001b[0m\u001b[0m\n\u001b[0;32m-> 1322\u001b[0;31m       \u001b[0;32mreturn\u001b[0m \u001b[0mfn\u001b[0m\u001b[0;34m(\u001b[0m\u001b[0;34m*\u001b[0m\u001b[0margs\u001b[0m\u001b[0;34m)\u001b[0m\u001b[0;34m\u001b[0m\u001b[0m\n\u001b[0m\u001b[1;32m   1323\u001b[0m     \u001b[0;32mexcept\u001b[0m \u001b[0merrors\u001b[0m\u001b[0;34m.\u001b[0m\u001b[0mOpError\u001b[0m \u001b[0;32mas\u001b[0m \u001b[0me\u001b[0m\u001b[0;34m:\u001b[0m\u001b[0;34m\u001b[0m\u001b[0m\n\u001b[1;32m   1324\u001b[0m       \u001b[0mmessage\u001b[0m \u001b[0;34m=\u001b[0m \u001b[0mcompat\u001b[0m\u001b[0;34m.\u001b[0m\u001b[0mas_text\u001b[0m\u001b[0;34m(\u001b[0m\u001b[0me\u001b[0m\u001b[0;34m.\u001b[0m\u001b[0mmessage\u001b[0m\u001b[0;34m)\u001b[0m\u001b[0;34m\u001b[0m\u001b[0m\n",
      "\u001b[0;32m/anaconda3/lib/python3.6/site-packages/tensorflow/python/client/session.py\u001b[0m in \u001b[0;36m_run_fn\u001b[0;34m(feed_dict, fetch_list, target_list, options, run_metadata)\u001b[0m\n\u001b[1;32m   1305\u001b[0m       \u001b[0mself\u001b[0m\u001b[0;34m.\u001b[0m\u001b[0m_extend_graph\u001b[0m\u001b[0;34m(\u001b[0m\u001b[0;34m)\u001b[0m\u001b[0;34m\u001b[0m\u001b[0m\n\u001b[1;32m   1306\u001b[0m       return self._call_tf_sessionrun(\n\u001b[0;32m-> 1307\u001b[0;31m           options, feed_dict, fetch_list, target_list, run_metadata)\n\u001b[0m\u001b[1;32m   1308\u001b[0m \u001b[0;34m\u001b[0m\u001b[0m\n\u001b[1;32m   1309\u001b[0m     \u001b[0;32mdef\u001b[0m \u001b[0m_prun_fn\u001b[0m\u001b[0;34m(\u001b[0m\u001b[0mhandle\u001b[0m\u001b[0;34m,\u001b[0m \u001b[0mfeed_dict\u001b[0m\u001b[0;34m,\u001b[0m \u001b[0mfetch_list\u001b[0m\u001b[0;34m)\u001b[0m\u001b[0;34m:\u001b[0m\u001b[0;34m\u001b[0m\u001b[0m\n",
      "\u001b[0;32m/anaconda3/lib/python3.6/site-packages/tensorflow/python/client/session.py\u001b[0m in \u001b[0;36m_call_tf_sessionrun\u001b[0;34m(self, options, feed_dict, fetch_list, target_list, run_metadata)\u001b[0m\n\u001b[1;32m   1407\u001b[0m       return tf_session.TF_SessionRun_wrapper(\n\u001b[1;32m   1408\u001b[0m           \u001b[0mself\u001b[0m\u001b[0;34m.\u001b[0m\u001b[0m_session\u001b[0m\u001b[0;34m,\u001b[0m \u001b[0moptions\u001b[0m\u001b[0;34m,\u001b[0m \u001b[0mfeed_dict\u001b[0m\u001b[0;34m,\u001b[0m \u001b[0mfetch_list\u001b[0m\u001b[0;34m,\u001b[0m \u001b[0mtarget_list\u001b[0m\u001b[0;34m,\u001b[0m\u001b[0;34m\u001b[0m\u001b[0m\n\u001b[0;32m-> 1409\u001b[0;31m           run_metadata)\n\u001b[0m\u001b[1;32m   1410\u001b[0m     \u001b[0;32melse\u001b[0m\u001b[0;34m:\u001b[0m\u001b[0;34m\u001b[0m\u001b[0m\n\u001b[1;32m   1411\u001b[0m       \u001b[0;32mwith\u001b[0m \u001b[0merrors\u001b[0m\u001b[0;34m.\u001b[0m\u001b[0mraise_exception_on_not_ok_status\u001b[0m\u001b[0;34m(\u001b[0m\u001b[0;34m)\u001b[0m \u001b[0;32mas\u001b[0m \u001b[0mstatus\u001b[0m\u001b[0;34m:\u001b[0m\u001b[0;34m\u001b[0m\u001b[0m\n",
      "\u001b[0;31mKeyboardInterrupt\u001b[0m: "
     ]
    }
   ],
   "source": [
    "num_batches = int(dataset.train.num_examples/batch_size)\n",
    "# Launch session\n",
    "# Loop over epochs\n",
    "for epoch in range(num_epochs):\n",
    "    # Loop over batches\n",
    "    for batch in range(num_batches):\n",
    "        img_batch, lbl_batch = dataset.train.next_batch(batch_size)\n",
    "        sess.run(optimizer, feed_dict={img_holder: np.reshape(img_batch, [-1, 28, 28, 1]), \\\n",
    "        lbl_holder: lbl_batch, train: True})\n",
    "    accuracy_val = sess.run(accuracy, feed_dict={img_holder: np.reshape(dataset.test.images, [-1, 28, 28, 1]),\n",
    "    lbl_holder: dataset.test.labels, train: False})\n",
    "    print('epoch:', epoch+1,'Accuracy:', accuracy_val)"
   ]
  },
  {
   "cell_type": "code",
   "execution_count": 0,
   "metadata": {
    "colab": {
     "autoexec": {
      "startup": false,
      "wait_interval": 0
     }
    },
    "colab_type": "code",
    "id": "LAGbyy4ltk56"
   },
   "outputs": [],
   "source": []
  }
 ],
 "metadata": {
  "accelerator": "GPU",
  "colab": {
   "collapsed_sections": [],
   "default_view": {},
   "name": "Hybrid7Initialize.ipynb",
   "provenance": [],
   "version": "0.3.2",
   "views": {}
  },
  "kernelspec": {
   "display_name": "Python 3",
   "language": "python",
   "name": "python3"
  },
  "language_info": {
   "codemirror_mode": {
    "name": "ipython",
    "version": 3
   },
   "file_extension": ".py",
   "mimetype": "text/x-python",
   "name": "python",
   "nbconvert_exporter": "python",
   "pygments_lexer": "ipython3",
   "version": "3.6.4"
  }
 },
 "nbformat": 4,
 "nbformat_minor": 1
}
