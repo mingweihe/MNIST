{
 "cells": [
  {
   "cell_type": "code",
   "execution_count": 32,
   "metadata": {},
   "outputs": [],
   "source": [
    "import tensorflow as tf\n",
    "import numpy as np"
   ]
  },
  {
   "cell_type": "code",
   "execution_count": 11,
   "metadata": {},
   "outputs": [
    {
     "name": "stdout",
     "output_type": "stream",
     "text": [
      "Extracting data/MNIST/train-images-idx3-ubyte.gz\n",
      "Extracting data/MNIST/train-labels-idx1-ubyte.gz\n",
      "Extracting data/MNIST/t10k-images-idx3-ubyte.gz\n",
      "Extracting data/MNIST/t10k-labels-idx1-ubyte.gz\n"
     ]
    }
   ],
   "source": [
    "# Read MNIST data\n",
    "from tensorflow.examples.tutorials.mnist import input_data\n",
    "dataset = input_data.read_data_sets(\"data/MNIST/\", one_hot=True)"
   ]
  },
  {
   "cell_type": "code",
   "execution_count": 12,
   "metadata": {},
   "outputs": [],
   "source": [
    "# Placeholders for MNIST images\n",
    "image_holder = tf.placeholder(tf.float32, [None, 784])\n",
    "label_holder = tf.placeholder(tf.float32, [None, 10])"
   ]
  },
  {
   "cell_type": "code",
   "execution_count": 13,
   "metadata": {},
   "outputs": [],
   "source": [
    "# Variables\n",
    "m = tf.Variable(tf.zeros([784, 10]))\n",
    "b = tf.Variable(tf.zeros([10]))"
   ]
  },
  {
   "cell_type": "code",
   "execution_count": 15,
   "metadata": {},
   "outputs": [],
   "source": [
    "# Compute loss\n",
    "loss = tf.reduce_mean(\n",
    "tf.nn.softmax_cross_entropy_with_logits(\n",
    "logits=tf.matmul(image_holder, m) + b, labels=label_holder))"
   ]
  },
  {
   "cell_type": "code",
   "execution_count": 69,
   "metadata": {},
   "outputs": [],
   "source": [
    "# Compute accuracy\n",
    "predictions = tf.argmax(tf.matmul(image_holder, m) + b, 1)\n",
    "correct_pred = tf.equal(predictions, tf.arg_max(label_holder, 1))\n",
    "accuracy = tf.reduce_mean(tf.cast(correct_pred, 'float'))"
   ]
  },
  {
   "cell_type": "code",
   "execution_count": 38,
   "metadata": {},
   "outputs": [],
   "source": [
    "# Create optimizer\n",
    "learning_rate = 0.01\n",
    "num_epochs = 25\n",
    "batch_size = 100\n",
    "num_batches = int(dataset.train.num_examples/batch_size)\n",
    "optimizer = tf.train.GradientDescentOptimizer(learning_rate).minimize(loss)"
   ]
  },
  {
   "cell_type": "code",
   "execution_count": 48,
   "metadata": {},
   "outputs": [],
   "source": [
    "prediction = tf.matmul(image_holder, m) + b"
   ]
  },
  {
   "cell_type": "code",
   "execution_count": 70,
   "metadata": {},
   "outputs": [
    {
     "name": "stdout",
     "output_type": "stream",
     "text": [
      "Final loss:  0.27668056\n",
      "Final accuracy:  0.94\n"
     ]
    }
   ],
   "source": [
    "# Initialize variables\n",
    "init = tf.global_variables_initializer()\n",
    "# Launch session\n",
    "sess = tf.Session()\n",
    "sess.run(init)\n",
    "# Loop over epochs\n",
    "for epoch in range(num_epochs):\n",
    "    # Loop over batches\n",
    "    for batch in range(num_batches):\n",
    "        image_batch, label_batch = dataset.train.next_batch(batch_size)\n",
    "        _, lossVal, accu = sess.run([optimizer, loss, accuracy], \\\n",
    "        feed_dict={image_holder: image_batch, label_holder: \\\n",
    "        label_batch})\n",
    "# Display the final loss\n",
    "print('Final loss: ', lossVal)\n",
    "print('Final accuracy: ', accu)"
   ]
  },
  {
   "cell_type": "code",
   "execution_count": 76,
   "metadata": {
    "scrolled": true
   },
   "outputs": [
    {
     "name": "stdout",
     "output_type": "stream",
     "text": [
      "0.92\n",
      "[5 0 4 1 9 2 1 3 1 4 3 5 3 6 1 7 2 8 6 9 4 0 9 1 3 2 4 3 7 7 3 8 6 7 0 5 6\n",
      " 0 7 6 1 8 7 9 3 9 8 5 5 3]\n",
      "[5 0 4 1 9 2 1 3 1 4 3 5 3 6 1 7 2 8 6 9 4 0 9 1 1 2 4 3 2 7 3 8 6 9 0 5 6\n",
      " 0 7 6 1 8 7 9 3 9 8 5 9 3]\n"
     ]
    }
   ],
   "source": [
    "res = sess.run(prediction, feed_dict = {image_holder: dataset.validation.images[:50]})\n",
    "print(sess.run(tf.reduce_mean(tf.cast(tf.equal(np.argmax(res, 1), \n",
    "np.argmax(dataset.validation.labels[:50], 1)), 'float'))))\n",
    "print(np.argmax(res, 1))\n",
    "print(np.argmax(dataset.validation.labels[:50], 1))"
   ]
  },
  {
   "cell_type": "code",
   "execution_count": null,
   "metadata": {},
   "outputs": [],
   "source": []
  }
 ],
 "metadata": {
  "kernelspec": {
   "display_name": "Python 3",
   "language": "python",
   "name": "python3"
  },
  "language_info": {
   "codemirror_mode": {
    "name": "ipython",
    "version": 3
   },
   "file_extension": ".py",
   "mimetype": "text/x-python",
   "name": "python",
   "nbconvert_exporter": "python",
   "pygments_lexer": "ipython3",
   "version": "3.6.4"
  }
 },
 "nbformat": 4,
 "nbformat_minor": 2
}
