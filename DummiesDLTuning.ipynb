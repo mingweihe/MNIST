{
 "cells": [
  {
   "cell_type": "code",
   "execution_count": 1,
   "metadata": {
    "scrolled": true
   },
   "outputs": [
    {
     "name": "stderr",
     "output_type": "stream",
     "text": [
      "/anaconda3/lib/python3.6/site-packages/h5py/__init__.py:36: FutureWarning: Conversion of the second argument of issubdtype from `float` to `np.floating` is deprecated. In future, it will be treated as `np.float64 == np.dtype(float).type`.\n",
      "  from ._conv import register_converters as _register_converters\n"
     ]
    }
   ],
   "source": [
    "import tensorflow as tf\n",
    "import numpy as np"
   ]
  },
  {
   "cell_type": "code",
   "execution_count": 2,
   "metadata": {},
   "outputs": [
    {
     "name": "stdout",
     "output_type": "stream",
     "text": [
      "WARNING:tensorflow:From <ipython-input-2-1b67bd11a884>:3: read_data_sets (from tensorflow.contrib.learn.python.learn.datasets.mnist) is deprecated and will be removed in a future version.\n",
      "Instructions for updating:\n",
      "Please use alternatives such as official/mnist/dataset.py from tensorflow/models.\n",
      "WARNING:tensorflow:From /anaconda3/lib/python3.6/site-packages/tensorflow/contrib/learn/python/learn/datasets/mnist.py:260: maybe_download (from tensorflow.contrib.learn.python.learn.datasets.base) is deprecated and will be removed in a future version.\n",
      "Instructions for updating:\n",
      "Please write your own downloading logic.\n",
      "WARNING:tensorflow:From /anaconda3/lib/python3.6/site-packages/tensorflow/contrib/learn/python/learn/datasets/mnist.py:262: extract_images (from tensorflow.contrib.learn.python.learn.datasets.mnist) is deprecated and will be removed in a future version.\n",
      "Instructions for updating:\n",
      "Please use tf.data to implement this functionality.\n",
      "Extracting data/MNIST/train-images-idx3-ubyte.gz\n",
      "WARNING:tensorflow:From /anaconda3/lib/python3.6/site-packages/tensorflow/contrib/learn/python/learn/datasets/mnist.py:267: extract_labels (from tensorflow.contrib.learn.python.learn.datasets.mnist) is deprecated and will be removed in a future version.\n",
      "Instructions for updating:\n",
      "Please use tf.data to implement this functionality.\n",
      "Extracting data/MNIST/train-labels-idx1-ubyte.gz\n",
      "WARNING:tensorflow:From /anaconda3/lib/python3.6/site-packages/tensorflow/contrib/learn/python/learn/datasets/mnist.py:110: dense_to_one_hot (from tensorflow.contrib.learn.python.learn.datasets.mnist) is deprecated and will be removed in a future version.\n",
      "Instructions for updating:\n",
      "Please use tf.one_hot on tensors.\n",
      "Extracting data/MNIST/t10k-images-idx3-ubyte.gz\n",
      "Extracting data/MNIST/t10k-labels-idx1-ubyte.gz\n",
      "WARNING:tensorflow:From /anaconda3/lib/python3.6/site-packages/tensorflow/contrib/learn/python/learn/datasets/mnist.py:290: DataSet.__init__ (from tensorflow.contrib.learn.python.learn.datasets.mnist) is deprecated and will be removed in a future version.\n",
      "Instructions for updating:\n",
      "Please use alternatives such as official/mnist/dataset.py from tensorflow/models.\n"
     ]
    }
   ],
   "source": [
    "# Read MNIST data\n",
    "from tensorflow.examples.tutorials.mnist import input_data\n",
    "dataset = input_data.read_data_sets(\"data/MNIST/\", one_hot=True)"
   ]
  },
  {
   "cell_type": "code",
   "execution_count": 3,
   "metadata": {},
   "outputs": [],
   "source": [
    "# Placeholders for MNIST images\n",
    "img_holder = tf.placeholder(tf.float32, [None, 784])\n",
    "lbl_holder = tf.placeholder(tf.float32, [None, 10])\n",
    "train = tf.placeholder(tf.bool)\n",
    "# Layer settings\n",
    "hid_nodes = 200\n",
    "out_nodes = 10\n",
    "keep_prob = 0.5"
   ]
  },
  {
   "cell_type": "code",
   "execution_count": 4,
   "metadata": {
    "scrolled": true
   },
   "outputs": [],
   "source": [
    "from tensorflow.contrib import layers\n",
    "from tensorflow.contrib.layers import fully_connected\n",
    "# Create layers\n",
    "with tf.contrib.framework.arg_scope(\n",
    "    [fully_connected],\n",
    "    normalizer_fn=tf.contrib.layers.batch_norm,\n",
    "    normalizer_params={'is_training': train}):\n",
    "        layer1 = fully_connected(img_holder, hid_nodes, scope='layer1')\n",
    "        layer1_drop = tf.layers.dropout(layer1, keep_prob, training=train)\n",
    "        layer2 = fully_connected(layer1_drop, hid_nodes, scope='layer2')\n",
    "        layer2_drop = tf.layers.dropout(layer2, keep_prob, training=train)\n",
    "        layer3 = fully_connected(layer2_drop, hid_nodes, scope='layer3')\n",
    "        layer3_drop = tf.layers.dropout(layer3, keep_prob, training=train)\n",
    "        out_layer = fully_connected(layer3_drop, out_nodes, activation_fn=None, scope='layer4')\n"
   ]
  },
  {
   "cell_type": "code",
   "execution_count": 6,
   "metadata": {},
   "outputs": [
    {
     "name": "stdout",
     "output_type": "stream",
     "text": [
      "(?, 200)\n",
      "(?, 200)\n",
      "(?, 200)\n",
      "(?, 200)\n",
      "(?, 200)\n",
      "(?, 200)\n",
      "(?, 10)\n"
     ]
    }
   ],
   "source": [
    "print(np.shape(layer1))\n",
    "print(np.shape(layer1_drop))\n",
    "print(np.shape(layer2))\n",
    "print(np.shape(layer2_drop))\n",
    "print(np.shape(layer3))\n",
    "print(np.shape(layer3_drop))\n",
    "print(np.shape(out_layer))"
   ]
  },
  {
   "cell_type": "code",
   "execution_count": 5,
   "metadata": {},
   "outputs": [
    {
     "name": "stdout",
     "output_type": "stream",
     "text": [
      "WARNING:tensorflow:From <ipython-input-5-a7043faa5e59>:4: softmax_cross_entropy_with_logits (from tensorflow.python.ops.nn_ops) is deprecated and will be removed in a future version.\n",
      "Instructions for updating:\n",
      "\n",
      "Future major versions of TensorFlow will allow gradients to flow\n",
      "into the labels input on backprop by default.\n",
      "\n",
      "See @{tf.nn.softmax_cross_entropy_with_logits_v2}.\n",
      "\n"
     ]
    }
   ],
   "source": [
    "# Compute loss\n",
    "loss = tf.reduce_mean(\n",
    "tf.nn.softmax_cross_entropy_with_logits(\n",
    "logits=out_layer, labels=lbl_holder))"
   ]
  },
  {
   "cell_type": "code",
   "execution_count": 18,
   "metadata": {},
   "outputs": [],
   "source": [
    "# Create optimizer\n",
    "learning_rate = 0.01\n",
    "num_epochs = 50\n",
    "batch_size = 100\n",
    "num_batches = int(dataset.train.num_examples/batch_size)\n",
    "optimizer = tf.train.AdamOptimizer(learning_rate).minimize(loss)"
   ]
  },
  {
   "cell_type": "code",
   "execution_count": 19,
   "metadata": {},
   "outputs": [],
   "source": [
    "# Initialize variables\n",
    "init = tf.global_variables_initializer()"
   ]
  },
  {
   "cell_type": "code",
   "execution_count": 20,
   "metadata": {
    "scrolled": true
   },
   "outputs": [
    {
     "name": "stdout",
     "output_type": "stream",
     "text": [
      "0.46000713\n",
      "Success rate:  0.9514\n"
     ]
    }
   ],
   "source": [
    "sess = tf.Session()\n",
    "sess.run(init)\n",
    "for epoch in range(num_epochs):\n",
    "    for patch in range(num_batches):\n",
    "        img_batch, lbl_batch = dataset.train.next_batch(batch_size)\n",
    "        loss_, _ = sess.run([loss, optimizer], \n",
    "        feed_dict = {img_holder: img_batch, lbl_holder: lbl_batch, train: True})\n",
    "print(loss_)\n",
    "# Determine success rate\n",
    "prediction = tf.equal(tf.argmax(out_layer, 1), tf.argmax(lbl_holder, 1))\n",
    "success = tf.reduce_mean(tf.cast(prediction, tf.float32))\n",
    "print('Success rate: ', sess.run(success,\n",
    "feed_dict={img_holder: dataset.test.images,\n",
    "lbl_holder: dataset.test.labels, train: False}))"
   ]
  },
  {
   "cell_type": "code",
   "execution_count": null,
   "metadata": {},
   "outputs": [],
   "source": []
  }
 ],
 "metadata": {
  "kernelspec": {
   "display_name": "Python 3",
   "language": "python",
   "name": "python3"
  },
  "language_info": {
   "codemirror_mode": {
    "name": "ipython",
    "version": 3
   },
   "file_extension": ".py",
   "mimetype": "text/x-python",
   "name": "python",
   "nbconvert_exporter": "python",
   "pygments_lexer": "ipython3",
   "version": "3.6.4"
  }
 },
 "nbformat": 4,
 "nbformat_minor": 2
}
